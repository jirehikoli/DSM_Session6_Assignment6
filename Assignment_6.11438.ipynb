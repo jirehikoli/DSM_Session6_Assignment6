{
 "cells": [
  {
   "cell_type": "code",
   "execution_count": 1,
   "metadata": {},
   "outputs": [],
   "source": [
    "# Assignment 6 Write a function so that the columns of the output matrix are powers of the input\n",
    "# vector.\n",
    "# The order of the powers is determined by the increasing boolean argument. Specifically,\n",
    "# when increasing is False, the i-th output column is the input vector raised element-wise\n",
    "# to the power of N - i - 1.\n",
    "# HINT: Such a matrix with a geometric progression in each row is named for Alexandre-Theophile Vandermonde.\n",
    "\n",
    "import numpy as np\n",
    "def out_matrix(in_vector):\n",
    "    x = np.array(in_vector)\n",
    "    N=len(x)\n",
    "    '''\n",
    "    Iterating through each element of the vector and applying exponential operation on each of the element with operand starting from 0 to n-1th element\n",
    "    and populating the result in a 2D array. Finally applied Transpose function on the resultant 2D array to obtain the desired output with increasing geometric progression as per Vandermonde Matrix Theory\n",
    "    '''\n",
    "    #y = np.array([x**(N-i-1) for i in range(N)]) # Implementing Decreasing boolean argument\n",
    "    y = np.array([x**i for i in range(N)])\n",
    "    return(y.T)"
   ]
  },
  {
   "cell_type": "code",
   "execution_count": 2,
   "metadata": {},
   "outputs": [
    {
     "name": "stdout",
     "output_type": "stream",
     "text": [
      "[[  1   1   1   1]\n",
      " [  1   4  16  64]\n",
      " [  1   5  25 125]\n",
      " [  1   7  49 343]]\n"
     ]
    }
   ],
   "source": [
    "in_vector = [1,4,5,7]\n",
    "print(out_matrix(in_vector)) "
   ]
  },
  {
   "cell_type": "code",
   "execution_count": null,
   "metadata": {},
   "outputs": [],
   "source": []
  }
 ],
 "metadata": {
  "kernelspec": {
   "display_name": "Python 3",
   "language": "python",
   "name": "python3"
  },
  "language_info": {
   "codemirror_mode": {
    "name": "ipython",
    "version": 3
   },
   "file_extension": ".py",
   "mimetype": "text/x-python",
   "name": "python",
   "nbconvert_exporter": "python",
   "pygments_lexer": "ipython3",
   "version": "3.6.5"
  }
 },
 "nbformat": 4,
 "nbformat_minor": 2
}
